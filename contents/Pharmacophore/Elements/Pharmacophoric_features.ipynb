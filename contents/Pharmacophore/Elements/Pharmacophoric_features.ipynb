{
 "cells": [
  {
   "cell_type": "markdown",
   "id": "e9b0b79a-efa7-4a7a-9ef9-e54156ee05b8",
   "metadata": {},
   "source": [
    "# Features"
   ]
  },
  {
   "cell_type": "code",
   "execution_count": 1,
   "id": "c090ddbe-5da4-4e88-b75b-2407963a40c2",
   "metadata": {},
   "outputs": [
    {
     "data": {
      "application/vnd.jupyter.widget-view+json": {
       "model_id": "5f9f41c5147f4387894bab689f2b4ded",
       "version_major": 2,
       "version_minor": 0
      },
      "text/plain": []
     },
     "metadata": {},
     "output_type": "display_data"
    }
   ],
   "source": [
    "from openpharmacophore.pharmacophoric_elements import features"
   ]
  },
  {
   "cell_type": "markdown",
   "id": "1f3b9b01-1b8f-4327-8fe3-aaf4439d9694",
   "metadata": {},
   "source": [
    "## Positive charge"
   ]
  },
  {
   "cell_type": "code",
   "execution_count": 2,
   "id": "e2081ccd-be40-4208-b313-52fa21a626cc",
   "metadata": {},
   "outputs": [],
   "source": [
    "feature = features.PositiveCharge()"
   ]
  },
  {
   "cell_type": "code",
   "execution_count": 3,
   "id": "bf4669e8-f0d0-4138-bdc1-15a38f59501f",
   "metadata": {},
   "outputs": [
    {
     "data": {
      "text/plain": [
       "'positive charge'"
      ]
     },
     "execution_count": 3,
     "metadata": {},
     "output_type": "execute_result"
    }
   ],
   "source": [
    "feature.feature_name"
   ]
  },
  {
   "cell_type": "markdown",
   "id": "750d1399-98b8-4ba6-ae26-9504183ded69",
   "metadata": {},
   "source": [
    "## Negative charge"
   ]
  },
  {
   "cell_type": "code",
   "execution_count": 4,
   "id": "5a7d123f-72b7-47fc-aff7-60707a9b2ba1",
   "metadata": {},
   "outputs": [],
   "source": [
    "feature = features.NegativeCharge()"
   ]
  },
  {
   "cell_type": "code",
   "execution_count": 5,
   "id": "7350bd83-45e6-4062-8022-97783a71eaca",
   "metadata": {},
   "outputs": [
    {
     "data": {
      "text/plain": [
       "'negative charge'"
      ]
     },
     "execution_count": 5,
     "metadata": {},
     "output_type": "execute_result"
    }
   ],
   "source": [
    "feature.feature_name"
   ]
  },
  {
   "cell_type": "markdown",
   "id": "ce6bd5d5-f782-4f9d-9ddf-e2d9410325ca",
   "metadata": {},
   "source": [
    "## Hydrogen bond donor"
   ]
  },
  {
   "cell_type": "code",
   "execution_count": 6,
   "id": "df0c78d3-ce53-4061-8b99-3a1a7b8263af",
   "metadata": {},
   "outputs": [],
   "source": [
    "feature = features.HBDonor()"
   ]
  },
  {
   "cell_type": "code",
   "execution_count": 7,
   "id": "5bf25ffe-afc5-4fa8-9060-bd15072efd80",
   "metadata": {},
   "outputs": [
    {
     "data": {
      "text/plain": [
       "'hb donor'"
      ]
     },
     "execution_count": 7,
     "metadata": {},
     "output_type": "execute_result"
    }
   ],
   "source": [
    "feature.feature_name"
   ]
  },
  {
   "cell_type": "markdown",
   "id": "b45c90a8-55f3-4420-a2fe-d1ad12504402",
   "metadata": {},
   "source": [
    "## Hydrogen bond acceptor"
   ]
  },
  {
   "cell_type": "code",
   "execution_count": 8,
   "id": "3081f43a-8d6f-4f33-820b-f9f2fb1d77d4",
   "metadata": {},
   "outputs": [],
   "source": [
    "feature = features.HBAcceptor()"
   ]
  },
  {
   "cell_type": "code",
   "execution_count": 9,
   "id": "04aaa7d8-aa5c-4c98-80a3-318147f5fba4",
   "metadata": {},
   "outputs": [
    {
     "data": {
      "text/plain": [
       "'hb acceptor'"
      ]
     },
     "execution_count": 9,
     "metadata": {},
     "output_type": "execute_result"
    }
   ],
   "source": [
    "feature.feature_name"
   ]
  },
  {
   "cell_type": "markdown",
   "id": "440c202a-68ea-453f-a8bc-95b0fd7d1c57",
   "metadata": {},
   "source": [
    "## Aromatic ring"
   ]
  },
  {
   "cell_type": "code",
   "execution_count": 10,
   "id": "617cc00b-ef6a-4ece-a11e-f97390c1c5c0",
   "metadata": {},
   "outputs": [],
   "source": [
    "feature = features.AromaticRing()"
   ]
  },
  {
   "cell_type": "code",
   "execution_count": 11,
   "id": "3afe8843-0e1d-45bc-9318-3ed497b6a938",
   "metadata": {},
   "outputs": [
    {
     "data": {
      "text/plain": [
       "'aromatic ring'"
      ]
     },
     "execution_count": 11,
     "metadata": {},
     "output_type": "execute_result"
    }
   ],
   "source": [
    "feature.feature_name"
   ]
  },
  {
   "cell_type": "markdown",
   "id": "d1d60d39-f454-4749-acc5-42d57bbfb60c",
   "metadata": {},
   "source": [
    "## Hydrophobicity"
   ]
  },
  {
   "cell_type": "code",
   "execution_count": 12,
   "id": "c5fd236f-6072-4530-bc44-625f33f6bb86",
   "metadata": {},
   "outputs": [],
   "source": [
    "feature = features.Hydrophobicity()"
   ]
  },
  {
   "cell_type": "code",
   "execution_count": 13,
   "id": "73fcd21a-3c01-4d11-862b-c0abded8b18f",
   "metadata": {},
   "outputs": [
    {
     "data": {
      "text/plain": [
       "'hydrophobicity'"
      ]
     },
     "execution_count": 13,
     "metadata": {},
     "output_type": "execute_result"
    }
   ],
   "source": [
    "feature.feature_name"
   ]
  },
  {
   "cell_type": "markdown",
   "id": "5e6e1d84-f749-4024-8fbc-84cd2db0617d",
   "metadata": {},
   "source": [
    "## Included volume"
   ]
  },
  {
   "cell_type": "code",
   "execution_count": 14,
   "id": "96c50401-8c9b-40a0-894e-9673b301fad8",
   "metadata": {},
   "outputs": [],
   "source": [
    "feature = features.IncludedVolume()"
   ]
  },
  {
   "cell_type": "code",
   "execution_count": 15,
   "id": "123df007-3280-4f30-8540-21b5f92f39a1",
   "metadata": {},
   "outputs": [
    {
     "data": {
      "text/plain": [
       "'included volume'"
      ]
     },
     "execution_count": 15,
     "metadata": {},
     "output_type": "execute_result"
    }
   ],
   "source": [
    "feature.feature_name"
   ]
  },
  {
   "cell_type": "markdown",
   "id": "8930c587-72f4-440c-a739-8ffa3b174ba1",
   "metadata": {},
   "source": [
    "## Excluded volume"
   ]
  },
  {
   "cell_type": "code",
   "execution_count": 16,
   "id": "3064f627-6ddc-4653-9748-8ee9fe2500b6",
   "metadata": {},
   "outputs": [],
   "source": [
    "feature = features.ExcludedVolume()"
   ]
  },
  {
   "cell_type": "code",
   "execution_count": 17,
   "id": "c62bf1e0-2115-40a2-8ea7-c7ce876d03cd",
   "metadata": {},
   "outputs": [
    {
     "data": {
      "text/plain": [
       "'excluded volume'"
      ]
     },
     "execution_count": 17,
     "metadata": {},
     "output_type": "execute_result"
    }
   ],
   "source": [
    "feature.feature_name"
   ]
  },
  {
   "cell_type": "code",
   "execution_count": null,
   "id": "024c6996-6508-4dca-8fe8-7ece5dc8a610",
   "metadata": {},
   "outputs": [],
   "source": []
  }
 ],
 "metadata": {
  "kernelspec": {
   "display_name": "Python 3",
   "language": "python",
   "name": "python3"
  },
  "language_info": {
   "codemirror_mode": {
    "name": "ipython",
    "version": 3
   },
   "file_extension": ".py",
   "mimetype": "text/x-python",
   "name": "python",
   "nbconvert_exporter": "python",
   "pygments_lexer": "ipython3",
   "version": "3.7.10"
  }
 },
 "nbformat": 4,
 "nbformat_minor": 5
}
