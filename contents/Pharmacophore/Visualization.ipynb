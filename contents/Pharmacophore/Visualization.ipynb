{
 "cells": [
  {
   "cell_type": "markdown",
   "id": "e9b0b79a-efa7-4a7a-9ef9-e54156ee05b8",
   "metadata": {},
   "source": [
    "# Visualization"
   ]
  },
  {
   "cell_type": "code",
   "execution_count": 1,
   "id": "c5fd236f-6072-4530-bc44-625f33f6bb86",
   "metadata": {},
   "outputs": [
    {
     "data": {
      "application/vnd.jupyter.widget-view+json": {
       "model_id": "e02b5e4334be4c2da6e91f38b8957a05",
       "version_major": 2,
       "version_minor": 0
      },
      "text/plain": []
     },
     "metadata": {},
     "output_type": "display_data"
    }
   ],
   "source": [
    "import openpharmacophore as oph\n",
    "import molsysmt as msm\n",
    "import pyunitwizard as puw\n",
    "import nglview as nv\n",
    "import numpy as np"
   ]
  },
  {
   "cell_type": "code",
   "execution_count": 2,
   "id": "3ae19bc4-8a3a-4e40-b992-e2852ee420c1",
   "metadata": {},
   "outputs": [],
   "source": [
    "file = oph.demo.pharmacophore_pharmer_file\n",
    "pharmacophore = oph.Pharmacophore(file, form='pharmer')"
   ]
  },
  {
   "cell_type": "code",
   "execution_count": 3,
   "id": "5e128e1a-486b-47f4-aa6c-caf4e6db63ab",
   "metadata": {},
   "outputs": [
    {
     "data": {
      "application/vnd.jupyter.widget-view+json": {
       "model_id": "64ac51e455ed4aeab3fe02f63e07ec7c",
       "version_major": 2,
       "version_minor": 0
      },
      "text/plain": [
       "NGLWidget()"
      ]
     },
     "metadata": {},
     "output_type": "display_data"
    }
   ],
   "source": [
    "view = nv.NGLWidget()\n",
    "view = nv.show_molsysmt(pharmacophore.molecular_system)\n",
    "\n",
    "for element in pharmacophore.elements:\n",
    "    element.add_to_NGLView(view, color='#2F2F2F')\n",
    "view.control.zoom(0.4)\n",
    "view"
   ]
  },
  {
   "cell_type": "code",
   "execution_count": 4,
   "id": "a53bb457-33bc-48c2-bf05-91c38944531a",
   "metadata": {},
   "outputs": [
    {
     "data": {
      "application/vnd.jupyter.widget-view+json": {
       "model_id": "e198a908ecc34f3ab0daa72487093e5c",
       "version_major": 2,
       "version_minor": 0
      },
      "text/plain": [
       "Image(value=b'', width='99%')"
      ]
     },
     "metadata": {},
     "output_type": "display_data"
    }
   ],
   "source": [
    "view.render_image()"
   ]
  },
  {
   "cell_type": "code",
   "execution_count": 5,
   "id": "8ab58db6-97ff-4cf1-9f1d-b92ac4c5ce78",
   "metadata": {},
   "outputs": [
    {
     "data": {
      "image/png": "\n",
      "text/plain": [
       "<IPython.core.display.Image object>"
      ]
     },
     "execution_count": 5,
     "metadata": {},
     "output_type": "execute_result"
    }
   ],
   "source": [
    "view._display_image()"
   ]
  },
  {
   "cell_type": "code",
   "execution_count": 6,
   "id": "ea859566-c693-4ac8-b91a-3220a8814105",
   "metadata": {},
   "outputs": [
    {
     "name": "stdout",
     "output_type": "stream",
     "text": [
      "['aromatic ring' 'hb acceptor' 'hydrophobicity' 'included volume']\n"
     ]
    }
   ],
   "source": [
    "features_in_pharmacophore = np.unique([element.feature_name for element in pharmacophore.elements])\n",
    "print(features_in_pharmacophore)"
   ]
  },
  {
   "cell_type": "code",
   "execution_count": 7,
   "id": "8a32d953-1fa6-4125-b87f-68c068b1d29d",
   "metadata": {},
   "outputs": [],
   "source": [
    "my_color_palette={\n",
    "    'aromatic ring': [0, 1, 0.2],\n",
    "    'hydrophobicity': [1, 0, 0.2],\n",
    "    'hb acceptor': [0.5, 0.5, 0.5],\n",
    "    'included volume': [0, 0, 1.0],\n",
    "}"
   ]
  },
  {
   "cell_type": "code",
   "execution_count": 8,
   "id": "fb91acd1-f615-4228-9401-dbe197a7b962",
   "metadata": {},
   "outputs": [
    {
     "data": {
      "application/vnd.jupyter.widget-view+json": {
       "model_id": "dbcbe1cff6d44a34a9b6153501bda725",
       "version_major": 2,
       "version_minor": 0
      },
      "text/plain": [
       "NGLWidget()"
      ]
     },
     "metadata": {},
     "output_type": "display_data"
    }
   ],
   "source": [
    "view = nv.NGLWidget()\n",
    "view = nv.show_molsysmt(pharmacophore.molecular_system)\n",
    "pharmacophore.add_to_NGLView(view, color_palette=my_color_palette)\n",
    "view.control.zoom(0.4)\n",
    "view"
   ]
  },
  {
   "cell_type": "code",
   "execution_count": 9,
   "id": "17658abb-749a-444d-b0dc-c00a9cda0f96",
   "metadata": {},
   "outputs": [
    {
     "data": {
      "application/vnd.jupyter.widget-view+json": {
       "model_id": "94558277afcc47e48dd3e5576b62d926",
       "version_major": 2,
       "version_minor": 0
      },
      "text/plain": [
       "Image(value=b'', width='99%')"
      ]
     },
     "metadata": {},
     "output_type": "display_data"
    }
   ],
   "source": [
    "view.render_image()"
   ]
  },
  {
   "cell_type": "code",
   "execution_count": 10,
   "id": "5f95d01e-cc63-4602-b48f-059a7af8bf7b",
   "metadata": {},
   "outputs": [
    {
     "data": {
      "image/png": "\n",
      "text/plain": [
       "<IPython.core.display.Image object>"
      ]
     },
     "execution_count": 10,
     "metadata": {},
     "output_type": "execute_result"
    }
   ],
   "source": [
    "view._display_image()"
   ]
  },
  {
   "cell_type": "code",
   "execution_count": 11,
   "id": "4c2bc5ac-7f9b-4dca-b99b-a53e43fe8796",
   "metadata": {},
   "outputs": [],
   "source": [
    "from openpharmacophore.pharmacophoric_elements.features import color_palettes"
   ]
  },
  {
   "cell_type": "code",
   "execution_count": 12,
   "id": "634ff902-5f0a-49d1-af91-795a01381634",
   "metadata": {},
   "outputs": [
    {
     "data": {
      "text/plain": [
       "{'positive charge': '#E1B07E',\n",
       " 'negative charge': '#A5F8D3',\n",
       " 'hb acceptor': '#F13030',\n",
       " 'hb donor': '#5B618A',\n",
       " 'included volume': '#109648',\n",
       " 'excluded volume': '#14110F',\n",
       " 'hydrophobicity': '#9EADC8',\n",
       " 'aromatic ring': '#D6D84F'}"
      ]
     },
     "execution_count": 12,
     "metadata": {},
     "output_type": "execute_result"
    }
   ],
   "source": [
    "color_palettes.openpharmacophore"
   ]
  },
  {
   "cell_type": "code",
   "execution_count": 13,
   "id": "7f4565c5-f158-4e8c-acb6-88edb9c1fa1f",
   "metadata": {},
   "outputs": [
    {
     "data": {
      "text/plain": [
       "'#D6D84F'"
      ]
     },
     "execution_count": 13,
     "metadata": {},
     "output_type": "execute_result"
    }
   ],
   "source": [
    "color_palettes.get_color_from_palette_for_feature(feature_name='aromatic ring',\n",
    "                                                  color_palette='openpharmacophore')"
   ]
  },
  {
   "cell_type": "code",
   "execution_count": 14,
   "id": "17938be6-7440-4458-8c56-5274d708753a",
   "metadata": {},
   "outputs": [
    {
     "data": {
      "application/vnd.jupyter.widget-view+json": {
       "model_id": "e52cd610b0944e9eb8235dea42dc85d6",
       "version_major": 2,
       "version_minor": 0
      },
      "text/plain": [
       "NGLWidget()"
      ]
     },
     "metadata": {},
     "output_type": "display_data"
    }
   ],
   "source": [
    "view = pharmacophore.show(color_palette='openpharmacophore')\n",
    "view.control.zoom(0.4)\n",
    "view"
   ]
  },
  {
   "cell_type": "code",
   "execution_count": 15,
   "id": "881be2f5-4e12-42e6-b52d-ac58d55e5596",
   "metadata": {},
   "outputs": [
    {
     "data": {
      "application/vnd.jupyter.widget-view+json": {
       "model_id": "16a55a5aad214869a52e9db6eff2eec8",
       "version_major": 2,
       "version_minor": 0
      },
      "text/plain": [
       "Image(value=b'', width='99%')"
      ]
     },
     "metadata": {},
     "output_type": "display_data"
    }
   ],
   "source": [
    "view.render_image()"
   ]
  },
  {
   "cell_type": "code",
   "execution_count": 16,
   "id": "677b2431-b1bb-4fd9-869b-8e3e98129eae",
   "metadata": {},
   "outputs": [
    {
     "data": {
      "image/png": "\n",
      "text/plain": [
       "<IPython.core.display.Image object>"
      ]
     },
     "execution_count": 16,
     "metadata": {},
     "output_type": "execute_result"
    }
   ],
   "source": [
    "view._display_image()"
   ]
  }
 ],
 "metadata": {
  "kernelspec": {
   "display_name": "Python 3",
   "language": "python",
   "name": "python3"
  },
  "language_info": {
   "codemirror_mode": {
    "name": "ipython",
    "version": 3
   },
   "file_extension": ".py",
   "mimetype": "text/x-python",
   "name": "python",
   "nbconvert_exporter": "python",
   "pygments_lexer": "ipython3",
   "version": "3.7.10"
  }
 },
 "nbformat": 4,
 "nbformat_minor": 5
}
